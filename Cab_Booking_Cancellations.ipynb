{
 "cells": [
  {
   "cell_type": "markdown",
   "metadata": {},
   "source": [
    "# Cab Booking Cancellations\n",
    "\n",
    "The data for this project was obtained from [Kaggle](https://www.kaggle.com/c/predicting-cab-booking-cancellations)."
   ]
  },
  {
   "cell_type": "markdown",
   "metadata": {},
   "source": [
    "## Table of contents\n",
    "\n",
    "1. [Introduction](#introduction)\n",
    "2. [Required libraries](#reqlib)\n",
    "3. [Problem definition](#problemdef)\n",
    "4. [Basic information](#basicinfo)\n",
    "5. [Exploratory Data Analysis](#eda)\n",
    "    * [Package Type](#pcktype)\n",
    "    * [Travel Type](#trvltype)\n",
    "    * [from_area_id](#faid)\n",
    "    * [to_area_id](#taid)\n",
    "    * [Online & Mobile Bookings](#onmob)\n",
    "    * [booking_created & from_date](#fromdate)\n",
    "6. [Data Preparation](#dpw)"
   ]
  },
  {
   "cell_type": "markdown",
   "metadata": {},
   "source": [
    "## Introduction <a name=\"introduction\"></a>\n",
    "\n",
    "The business problem tackled here is trying to improve customer service for YourCabs.com, a cab company in Bangalore. The problem of interest is booking cancellations by the company due to unavailability of a car. The challenge is that cancellations can occur very close to the trip start time, thereby causing passengers inconvenience.\n",
    "\n",
    "The cab bookings data are made available through a collaboration between Prof. Galit Shmueli at the Indian School of Business and YourCabs co-founder Mr. Rajath Kedilaya and IDRC managing partner, Mr. Amit Batra."
   ]
  },
  {
   "cell_type": "markdown",
   "metadata": {},
   "source": [
    "## Required Libraries <a name=\"reqlib\"></a>\n",
    "\n",
    "The primary libraries that we'll be using are:\n",
    "\n",
    "* **NumPy**: adds support for large, multi-dimensional arrays and matrices, along with a large collection of high-level mathematical functions to operate on these arrays.\n",
    "* **pandas**: library for data manipulation and analysis. In particular, it offers data structures and operations for manipulating numerical tables and time series.\n",
    "* **matplotlib**: basic plotting library in Python; most other Python plotting libraries are built on top of it.\n",
    "* **Seaborn**: advanced statistical plotting library."
   ]
  },
  {
   "cell_type": "markdown",
   "metadata": {},
   "source": [
    "## Problem Definition <a name=\"problemdef\"></a>\n",
    "\n",
    "The first step of a data science project is to understand the problem at hand, to define the question or problem we're looking to solve.\n",
    "\n",
    "* **What is the context of the problem and its scientific or business application?**\n",
    "\n",
    "The business problem tackled here is trying to improve customer service for YourCabs.com, a cab company in Bangalore. The problem of interest is booking cancellations by the company due to unavailability of a car. The challenge is that cancellations can occur very close to the trip start time, thereby causing passengers inconvenience.\n",
    "\n",
    "* **What type of analytical problem are we trying to solve?**\n",
    "\n",
    "This is a classification task. For each observation, a (1) is assigned if the booking was cancelled, and a (0) is assigned if it wasn’t."
   ]
  },
  {
   "cell_type": "markdown",
   "metadata": {},
   "source": [
    "## Basic Information <a name=\"basicinfo\"></a>"
   ]
  },
  {
   "cell_type": "markdown",
   "metadata": {},
   "source": [
    "____\n",
    "### Checking the data\n",
    "\n",
    "The next step is to look at the data we have and understand what each of the variables mean. Let's take a look at the data fields:\n",
    "\n",
    "\n",
    "* **id** - booking ID\n",
    "* **user_id** - the ID of the customer (based on mobile number)\n",
    "* **vehicle_model_id** - vehicle model type.\n",
    "* **package_id** - type of package (1=4hrs & 40kms, 2=8hrs & 80kms, 3=6hrs & 60kms, 4= 10hrs & 100kms, 5=5hrs & 50kms, 6=3hrs & 30kms, 7=12hrs & 120kms)\n",
    "* **travel_type_id** - type of travel (1=long distance, 2= point to point, 3= hourly rental).\n",
    "* **from_area_id** - unique identifier of area. Applicable only for point-to-point travel and packages\n",
    "* **to_area_id** - unique identifier of area. Applicable only for point-to-point travel\n",
    "* **from_city_id** - unique identifier of city\n",
    "* **to_city_id** - unique identifier of city (only for intercity)\n",
    "* **from_date** - time stamp of requested trip start\n",
    "* **to_date** - time stamp of trip end\n",
    "* **online_booking** - if booking was done on desktop website\n",
    "* **mobile_site_booking** - if booking was done on mobile website\n",
    "* **booking_created** - time stamp of booking\n",
    "* **from_lat** - latitude of from area\n",
    "* **from_long** -  longitude of from area\n",
    "* **to_lat** - latitude of to area\n",
    "* **to_long** - longitude of to area\n",
    "* **Car_Cancellation (available only in training data)** - whether the booking was cancelled (1) or not (0) due to unavailability of a car.\n",
    "* **Cost_of_error (available only in training data)** - the cost incurred if the booking is misclassified. The cost associated with misclassifying an un-cancelled booking is 1. The cost associated with misclassifying a cancelled booking as uncancelled is a function of how close the cancellation occurs relative to the trip start time. The closer the trip, the higher the cost. Cancellations occurring less than 15 minutes prior to the trip start incur a fixed penalty of 100 units.\n"
   ]
  },
  {
   "cell_type": "markdown",
   "metadata": {},
   "source": [
    "____\n",
    "### Setup and data loading"
   ]
  },
  {
   "cell_type": "markdown",
   "metadata": {},
   "source": [
    "** Import NumPy and pandas **"
   ]
  },
  {
   "cell_type": "code",
   "execution_count": 1,
   "metadata": {
    "collapsed": true
   },
   "outputs": [],
   "source": [
    "import numpy as np\n",
    "import pandas as pd"
   ]
  },
  {
   "cell_type": "markdown",
   "metadata": {},
   "source": [
    "** Import visualization libraries **"
   ]
  },
  {
   "cell_type": "code",
   "execution_count": 2,
   "metadata": {
    "collapsed": true
   },
   "outputs": [],
   "source": [
    "import matplotlib.pyplot as plt\n",
    "import seaborn as sns\n",
    "%matplotlib inline"
   ]
  },
  {
   "cell_type": "markdown",
   "metadata": {},
   "source": [
    "** Load data to a dataframe and preview data **"
   ]
  },
  {
   "cell_type": "code",
   "execution_count": 3,
   "metadata": {},
   "outputs": [
    {
     "data": {
      "text/html": [
       "<div>\n",
       "<style>\n",
       "    .dataframe thead tr:only-child th {\n",
       "        text-align: right;\n",
       "    }\n",
       "\n",
       "    .dataframe thead th {\n",
       "        text-align: left;\n",
       "    }\n",
       "\n",
       "    .dataframe tbody tr th {\n",
       "        vertical-align: top;\n",
       "    }\n",
       "</style>\n",
       "<table border=\"1\" class=\"dataframe\">\n",
       "  <thead>\n",
       "    <tr style=\"text-align: right;\">\n",
       "      <th></th>\n",
       "      <th>id</th>\n",
       "      <th>user_id</th>\n",
       "      <th>vehicle_model_id</th>\n",
       "      <th>package_id</th>\n",
       "      <th>travel_type_id</th>\n",
       "      <th>from_area_id</th>\n",
       "      <th>to_area_id</th>\n",
       "      <th>from_city_id</th>\n",
       "      <th>to_city_id</th>\n",
       "      <th>from_date</th>\n",
       "      <th>to_date</th>\n",
       "      <th>online_booking</th>\n",
       "      <th>mobile_site_booking</th>\n",
       "      <th>booking_created</th>\n",
       "      <th>from_lat</th>\n",
       "      <th>from_long</th>\n",
       "      <th>to_lat</th>\n",
       "      <th>to_long</th>\n",
       "      <th>Car_Cancellation</th>\n",
       "      <th>Cost_of_error</th>\n",
       "    </tr>\n",
       "  </thead>\n",
       "  <tbody>\n",
       "    <tr>\n",
       "      <th>0</th>\n",
       "      <td>132512</td>\n",
       "      <td>22177</td>\n",
       "      <td>28</td>\n",
       "      <td>NaN</td>\n",
       "      <td>2</td>\n",
       "      <td>83.0</td>\n",
       "      <td>448.0</td>\n",
       "      <td>NaN</td>\n",
       "      <td>NaN</td>\n",
       "      <td>1/1/2013 2:00</td>\n",
       "      <td>NaN</td>\n",
       "      <td>0</td>\n",
       "      <td>0</td>\n",
       "      <td>1/1/2013 1:39</td>\n",
       "      <td>12.924150</td>\n",
       "      <td>77.672290</td>\n",
       "      <td>12.927320</td>\n",
       "      <td>77.635750</td>\n",
       "      <td>0</td>\n",
       "      <td>1.0</td>\n",
       "    </tr>\n",
       "    <tr>\n",
       "      <th>1</th>\n",
       "      <td>132513</td>\n",
       "      <td>21413</td>\n",
       "      <td>12</td>\n",
       "      <td>NaN</td>\n",
       "      <td>2</td>\n",
       "      <td>1010.0</td>\n",
       "      <td>540.0</td>\n",
       "      <td>NaN</td>\n",
       "      <td>NaN</td>\n",
       "      <td>1/1/2013 9:00</td>\n",
       "      <td>NaN</td>\n",
       "      <td>0</td>\n",
       "      <td>0</td>\n",
       "      <td>1/1/2013 2:25</td>\n",
       "      <td>12.966910</td>\n",
       "      <td>77.749350</td>\n",
       "      <td>12.927680</td>\n",
       "      <td>77.626640</td>\n",
       "      <td>0</td>\n",
       "      <td>1.0</td>\n",
       "    </tr>\n",
       "    <tr>\n",
       "      <th>2</th>\n",
       "      <td>132514</td>\n",
       "      <td>22178</td>\n",
       "      <td>12</td>\n",
       "      <td>NaN</td>\n",
       "      <td>2</td>\n",
       "      <td>1301.0</td>\n",
       "      <td>1034.0</td>\n",
       "      <td>NaN</td>\n",
       "      <td>NaN</td>\n",
       "      <td>1/1/2013 3:30</td>\n",
       "      <td>NaN</td>\n",
       "      <td>0</td>\n",
       "      <td>0</td>\n",
       "      <td>1/1/2013 3:08</td>\n",
       "      <td>12.937222</td>\n",
       "      <td>77.626915</td>\n",
       "      <td>13.047926</td>\n",
       "      <td>77.597766</td>\n",
       "      <td>0</td>\n",
       "      <td>1.0</td>\n",
       "    </tr>\n",
       "    <tr>\n",
       "      <th>3</th>\n",
       "      <td>132515</td>\n",
       "      <td>13034</td>\n",
       "      <td>12</td>\n",
       "      <td>NaN</td>\n",
       "      <td>2</td>\n",
       "      <td>768.0</td>\n",
       "      <td>398.0</td>\n",
       "      <td>NaN</td>\n",
       "      <td>NaN</td>\n",
       "      <td>1/1/2013 5:45</td>\n",
       "      <td>NaN</td>\n",
       "      <td>0</td>\n",
       "      <td>0</td>\n",
       "      <td>1/1/2013 4:39</td>\n",
       "      <td>12.989990</td>\n",
       "      <td>77.553320</td>\n",
       "      <td>12.971430</td>\n",
       "      <td>77.639140</td>\n",
       "      <td>0</td>\n",
       "      <td>1.0</td>\n",
       "    </tr>\n",
       "    <tr>\n",
       "      <th>4</th>\n",
       "      <td>132517</td>\n",
       "      <td>22180</td>\n",
       "      <td>12</td>\n",
       "      <td>NaN</td>\n",
       "      <td>2</td>\n",
       "      <td>1365.0</td>\n",
       "      <td>849.0</td>\n",
       "      <td>NaN</td>\n",
       "      <td>NaN</td>\n",
       "      <td>1/1/2013 9:00</td>\n",
       "      <td>NaN</td>\n",
       "      <td>0</td>\n",
       "      <td>0</td>\n",
       "      <td>1/1/2013 7:53</td>\n",
       "      <td>12.845653</td>\n",
       "      <td>77.677925</td>\n",
       "      <td>12.954340</td>\n",
       "      <td>77.600720</td>\n",
       "      <td>0</td>\n",
       "      <td>1.0</td>\n",
       "    </tr>\n",
       "  </tbody>\n",
       "</table>\n",
       "</div>"
      ],
      "text/plain": [
       "       id  user_id  vehicle_model_id  package_id  travel_type_id  \\\n",
       "0  132512    22177                28         NaN               2   \n",
       "1  132513    21413                12         NaN               2   \n",
       "2  132514    22178                12         NaN               2   \n",
       "3  132515    13034                12         NaN               2   \n",
       "4  132517    22180                12         NaN               2   \n",
       "\n",
       "   from_area_id  to_area_id  from_city_id  to_city_id      from_date  to_date  \\\n",
       "0          83.0       448.0           NaN         NaN  1/1/2013 2:00      NaN   \n",
       "1        1010.0       540.0           NaN         NaN  1/1/2013 9:00      NaN   \n",
       "2        1301.0      1034.0           NaN         NaN  1/1/2013 3:30      NaN   \n",
       "3         768.0       398.0           NaN         NaN  1/1/2013 5:45      NaN   \n",
       "4        1365.0       849.0           NaN         NaN  1/1/2013 9:00      NaN   \n",
       "\n",
       "   online_booking  mobile_site_booking booking_created   from_lat  from_long  \\\n",
       "0               0                    0   1/1/2013 1:39  12.924150  77.672290   \n",
       "1               0                    0   1/1/2013 2:25  12.966910  77.749350   \n",
       "2               0                    0   1/1/2013 3:08  12.937222  77.626915   \n",
       "3               0                    0   1/1/2013 4:39  12.989990  77.553320   \n",
       "4               0                    0   1/1/2013 7:53  12.845653  77.677925   \n",
       "\n",
       "      to_lat    to_long  Car_Cancellation  Cost_of_error  \n",
       "0  12.927320  77.635750                 0            1.0  \n",
       "1  12.927680  77.626640                 0            1.0  \n",
       "2  13.047926  77.597766                 0            1.0  \n",
       "3  12.971430  77.639140                 0            1.0  \n",
       "4  12.954340  77.600720                 0            1.0  "
      ]
     },
     "execution_count": 3,
     "metadata": {},
     "output_type": "execute_result"
    }
   ],
   "source": [
    "df_train = pd.read_csv(\"Kaggle_YourCabs_training.csv\")\n",
    "df_train.head()"
   ]
  },
  {
   "cell_type": "code",
   "execution_count": 4,
   "metadata": {},
   "outputs": [
    {
     "name": "stdout",
     "output_type": "stream",
     "text": [
      "<class 'pandas.core.frame.DataFrame'>\n",
      "RangeIndex: 43431 entries, 0 to 43430\n",
      "Data columns (total 20 columns):\n",
      "id                     43431 non-null int64\n",
      "user_id                43431 non-null int64\n",
      "vehicle_model_id       43431 non-null int64\n",
      "package_id             7550 non-null float64\n",
      "travel_type_id         43431 non-null int64\n",
      "from_area_id           43343 non-null float64\n",
      "to_area_id             34293 non-null float64\n",
      "from_city_id           16345 non-null float64\n",
      "to_city_id             1588 non-null float64\n",
      "from_date              43431 non-null object\n",
      "to_date                25541 non-null float64\n",
      "online_booking         43431 non-null int64\n",
      "mobile_site_booking    43431 non-null int64\n",
      "booking_created        43431 non-null object\n",
      "from_lat               43338 non-null float64\n",
      "from_long              43338 non-null float64\n",
      "to_lat                 34293 non-null float64\n",
      "to_long                34293 non-null float64\n",
      "Car_Cancellation       43431 non-null int64\n",
      "Cost_of_error          43431 non-null float64\n",
      "dtypes: float64(11), int64(7), object(2)\n",
      "memory usage: 6.6+ MB\n"
     ]
    }
   ],
   "source": [
    "df_train.info()"
   ]
  },
  {
   "cell_type": "markdown",
   "metadata": {},
   "source": [
    "** As we can see, the training dataset has 43431 entries, there are various columns with missing values and some columns which need to be converted to date-time. Now let's convert date columns to date-time format. **"
   ]
  },
  {
   "cell_type": "code",
   "execution_count": 5,
   "metadata": {
    "collapsed": true
   },
   "outputs": [],
   "source": [
    "# convert from_date column to date-time\n",
    "# Note: when we try to convert NaN to date-time, it gets converted to NaT( Not a timestamp )\n",
    "\n",
    "df_train['from_date'] = pd.to_datetime(df_train['from_date'])"
   ]
  },
  {
   "cell_type": "code",
   "execution_count": 6,
   "metadata": {
    "collapsed": true
   },
   "outputs": [],
   "source": [
    "# convert to_date column to date-time\n",
    "\n",
    "df_train['to_date'] = pd.to_datetime(df_train['to_date'])"
   ]
  },
  {
   "cell_type": "code",
   "execution_count": 7,
   "metadata": {
    "collapsed": true
   },
   "outputs": [],
   "source": [
    "# convert booking_created column to date-time\n",
    "\n",
    "df_train['booking_created'] = pd.to_datetime(df_train['booking_created'])"
   ]
  },
  {
   "cell_type": "markdown",
   "metadata": {},
   "source": [
    "** Let's set id to be the index of the dataset **"
   ]
  },
  {
   "cell_type": "code",
   "execution_count": 8,
   "metadata": {
    "collapsed": true
   },
   "outputs": [],
   "source": [
    "df_train.set_index(\"id\", inplace=True) # By default drops the \"id\" column"
   ]
  },
  {
   "cell_type": "markdown",
   "metadata": {},
   "source": [
    "**Let's see the number of bookings that were cancelled and uncancelled**"
   ]
  },
  {
   "cell_type": "code",
   "execution_count": 9,
   "metadata": {},
   "outputs": [
    {
     "data": {
      "text/plain": [
       "0    40299\n",
       "1     3132\n",
       "Name: Car_Cancellation, dtype: int64"
      ]
     },
     "execution_count": 9,
     "metadata": {},
     "output_type": "execute_result"
    }
   ],
   "source": [
    "df_train[\"Car_Cancellation\"].value_counts()"
   ]
  },
  {
   "cell_type": "markdown",
   "metadata": {},
   "source": [
    "7.2% of the bookings were cancelled, thus, there are few cancellations compared to the number of non-cancellations."
   ]
  },
  {
   "cell_type": "markdown",
   "metadata": {},
   "source": [
    "** Most frequent city of origin **"
   ]
  },
  {
   "cell_type": "code",
   "execution_count": 10,
   "metadata": {},
   "outputs": [
    {
     "data": {
      "text/plain": [
       "15.0    16233\n",
       "1.0       106\n",
       "31.0        6\n",
       "Name: from_city_id, dtype: int64"
      ]
     },
     "execution_count": 10,
     "metadata": {},
     "output_type": "execute_result"
    }
   ],
   "source": [
    "df_train[\"from_city_id\"].value_counts()"
   ]
  },
  {
   "cell_type": "markdown",
   "metadata": {},
   "source": [
    "** Most frequent destination **"
   ]
  },
  {
   "cell_type": "code",
   "execution_count": 11,
   "metadata": {},
   "outputs": [
    {
     "data": {
      "text/plain": [
       "32.0     475\n",
       "55.0     174\n",
       "29.0     116\n",
       "146.0     89\n",
       "108.0     64\n",
       "41.0      27\n",
       "147.0     26\n",
       "44.0      26\n",
       "58.0      26\n",
       "131.0     26\n",
       "Name: to_city_id, dtype: int64"
      ]
     },
     "execution_count": 11,
     "metadata": {},
     "output_type": "execute_result"
    }
   ],
   "source": [
    "df_train[\"to_city_id\"].value_counts().head(10)"
   ]
  },
  {
   "cell_type": "markdown",
   "metadata": {},
   "source": [
    "** Number of online bookings **"
   ]
  },
  {
   "cell_type": "code",
   "execution_count": 12,
   "metadata": {},
   "outputs": [
    {
     "data": {
      "text/plain": [
       "15270"
      ]
     },
     "execution_count": 12,
     "metadata": {},
     "output_type": "execute_result"
    }
   ],
   "source": [
    "df_train[\"online_booking\"].sum()"
   ]
  },
  {
   "cell_type": "markdown",
   "metadata": {},
   "source": [
    "** Number of mobile bookings **"
   ]
  },
  {
   "cell_type": "code",
   "execution_count": 13,
   "metadata": {},
   "outputs": [
    {
     "data": {
      "text/plain": [
       "1878"
      ]
     },
     "execution_count": 13,
     "metadata": {},
     "output_type": "execute_result"
    }
   ],
   "source": [
    "df_train[\"mobile_site_booking\"].sum()"
   ]
  },
  {
   "cell_type": "markdown",
   "metadata": {},
   "source": [
    "** Number of unique users **"
   ]
  },
  {
   "cell_type": "code",
   "execution_count": 14,
   "metadata": {},
   "outputs": [
    {
     "data": {
      "text/plain": [
       "22267"
      ]
     },
     "execution_count": 14,
     "metadata": {},
     "output_type": "execute_result"
    }
   ],
   "source": [
    "df_train[\"user_id\"].nunique()"
   ]
  },
  {
   "cell_type": "markdown",
   "metadata": {},
   "source": [
    "** Most frequent users **"
   ]
  },
  {
   "cell_type": "code",
   "execution_count": 15,
   "metadata": {},
   "outputs": [
    {
     "data": {
      "text/plain": [
       "29648    471\n",
       "868      245\n",
       "27458    211\n",
       "32527    202\n",
       "34972    198\n",
       "33002    187\n",
       "29275    185\n",
       "32023    125\n",
       "30290    120\n",
       "38538    105\n",
       "Name: user_id, dtype: int64"
      ]
     },
     "execution_count": 15,
     "metadata": {},
     "output_type": "execute_result"
    }
   ],
   "source": [
    "df_train[\"user_id\"].value_counts().head(10)"
   ]
  },
  {
   "cell_type": "markdown",
   "metadata": {},
   "source": [
    "** Most frequent travel type **"
   ]
  },
  {
   "cell_type": "code",
   "execution_count": 16,
   "metadata": {},
   "outputs": [
    {
     "data": {
      "text/plain": [
       "2    34292\n",
       "3     7550\n",
       "1     1589\n",
       "Name: travel_type_id, dtype: int64"
      ]
     },
     "execution_count": 16,
     "metadata": {},
     "output_type": "execute_result"
    }
   ],
   "source": [
    "df_train[\"travel_type_id\"].value_counts().head(10)"
   ]
  },
  {
   "cell_type": "markdown",
   "metadata": {},
   "source": [
    "** Most frequent package type **"
   ]
  },
  {
   "cell_type": "code",
   "execution_count": 17,
   "metadata": {},
   "outputs": [
    {
     "data": {
      "text/plain": [
       "1.0    3503\n",
       "2.0    2651\n",
       "6.0     502\n",
       "4.0     412\n",
       "3.0     375\n",
       "7.0     101\n",
       "5.0       6\n",
       "Name: package_id, dtype: int64"
      ]
     },
     "execution_count": 17,
     "metadata": {},
     "output_type": "execute_result"
    }
   ],
   "source": [
    "df_train[\"package_id\"].value_counts().head(10)"
   ]
  },
  {
   "cell_type": "markdown",
   "metadata": {},
   "source": [
    "## Exploratory Data Analysis <a name=\"eda\"></a>"
   ]
  },
  {
   "cell_type": "markdown",
   "metadata": {},
   "source": [
    "**Let's start by analysing the effect of different variables on our response**"
   ]
  },
  {
   "cell_type": "markdown",
   "metadata": {},
   "source": [
    "### Package type <a name=\"pcktype\"></a>"
   ]
  },
  {
   "cell_type": "code",
   "execution_count": 18,
   "metadata": {},
   "outputs": [
    {
     "data": {
      "image/png": "[encoded data removed]",
      "text/plain": [
       "<matplotlib.figure.Figure at 0x10b1cceb8>"
      ]
     },
     "metadata": {},
     "output_type": "display_data"
    }
   ],
   "source": [
    "sns.set_style('whitegrid')\n",
    "sns.set_context(context=\"paper\", font_scale=2)\n",
    "plt.figure (figsize=(10,7))\n",
    "ax = sns.countplot(df_train[\"package_id\"],color=\"cornflowerblue\")\n",
    "ax.set_title(\"Package Type Count\")\n",
    "ax.set_ylim([0,4000])\n",
    "for p in ax.patches:\n",
    "        ax.annotate('{:.0f}'.format(p.get_height()), (p.get_x()+0.2, p.get_height()+50))"
   ]
  },
  {
   "cell_type": "markdown",
   "metadata": {},
   "source": [
    "** The most common packages are for a journey of 4hrs & 40kms, followed by 8hrs & 80kms.**"
   ]
  },
  {
   "cell_type": "markdown",
   "metadata": {},
   "source": [
    "**Let's see whether package type affects car cancellations.**"
   ]
  },
  {
   "cell_type": "code",
   "execution_count": 19,
   "metadata": {},
   "outputs": [
    {
     "data": {
      "image/png": "[encoded data removed]",
      "text/plain": [
       "<matplotlib.figure.Figure at 0x102e42dd8>"
      ]
     },
     "metadata": {},
     "output_type": "display_data"
    }
   ],
   "source": [
    "sns.set_context(context=\"notebook\", font_scale=2)\n",
    "df_train.hist(column='package_id', by='Car_Cancellation');"
   ]
  },
  {
   "cell_type": "markdown",
   "metadata": {},
   "source": [
    "**Most cancellations occur for package type 1 because it's the most common package. Instead of plotting the absolute count of cancellations / non-cancellations for the different types, it's more useful to plot the percentages of cancelations for each of them, this way we can easily compare them.**"
   ]
  },
  {
   "cell_type": "code",
   "execution_count": 20,
   "metadata": {
    "collapsed": true
   },
   "outputs": [],
   "source": [
    "sub_df=df_train.groupby([\"package_id\", \"Car_Cancellation\"]).count()[\"user_id\"]\n",
    "per_unc = [] # list that contains the percentage of non-cancellations for each group\n",
    "per_can = [] # list that contains the percentage of non-cancellations for each group\n",
    "for i in sub_df.index.levels[0]:\n",
    "    if len(sub_df[i]) > 1:\n",
    "        per_unc.append(sub_df[i][0]/(sub_df[i][0] + sub_df[i][1]))\n",
    "        per_can.append(sub_df[i][1]/(sub_df[i][0] + sub_df[i][1]))\n",
    "    elif sub_df[i].index[0] == 0: # If the only index is 0 then all entries correspond to non-cancellations\n",
    "        per_unc.append(1)\n",
    "        per_can.append(0)\n",
    "    else: # If the only index is 0 then all entries correspond to non-cancellations\n",
    "        per_unc.append(0)\n",
    "        per_can.append(1)\n",
    "per_unc=np.array(per_unc)\n",
    "per_can=np.array(per_can)"
   ]
  },
  {
   "cell_type": "code",
   "execution_count": 21,
   "metadata": {},
   "outputs": [
    {
     "data": {
      "text/plain": [
       "<matplotlib.legend.Legend at 0x10f5cadd8>"
      ]
     },
     "execution_count": 21,
     "metadata": {},
     "output_type": "execute_result"
    },
    {
     "data": {
      "image/png": "[encoded data removed]",
      "text/plain": [
       "<matplotlib.figure.Figure at 0x10de03080>"
      ]
     },
     "metadata": {},
     "output_type": "display_data"
    }
   ],
   "source": [
    "plt.figure (figsize=(10,7))\n",
    "\n",
    "N = 7  # number of groups\n",
    "ind = np.arange(1,N+1)\n",
    "p1 = plt.bar(ind, per_unc*100, width=0.6, color='r')\n",
    "p2 = plt.bar(ind, per_can*100, width=0.6, bottom=per_unc*100, color='b')\n",
    "\n",
    "plt.ylim([0,120])\n",
    "plt.yticks(fontsize=14)\n",
    "plt.ylabel('Percentage (%)', fontsize=16)\n",
    "plt.xticks(ind, fontsize=14)\n",
    "plt.xlabel('Package type', fontsize=16)\n",
    "plt.title(\"Car cancellations across Package Types\")\n",
    "plt.legend((p1[0], p2[0]), (\"Not cancelled\", \"Cancelled\"), fontsize=14, ncol=4, framealpha=0, fancybox=True)"
   ]
  },
  {
   "cell_type": "markdown",
   "metadata": {},
   "source": [
    "** It seems that it's more likely for package type 6 (3hrs & 30kms) to get cancelled, followed by package type 3 (6hrs & 60kms).**"
   ]
  },
  {
   "cell_type": "markdown",
   "metadata": {},
   "source": [
    "### Travel type <a name=\"trvltype\"></a>"
   ]
  },
  {
   "cell_type": "code",
   "execution_count": 22,
   "metadata": {
    "collapsed": true
   },
   "outputs": [],
   "source": [
    "sub_df2=df_train.groupby([\"travel_type_id\", \"Car_Cancellation\"]).count()[\"user_id\"]\n",
    "per_unc = [] # list that contains the percentage of non-cancellations for each group\n",
    "per_can = [] # list that contains the percentage of non-cancellations for each group\n",
    "for i in sub_df2.index.levels[0]:\n",
    "    if len(sub_df2[i]) > 1:\n",
    "        per_unc.append(sub_df2[i][0]/(sub_df2[i][0] + sub_df2[i][1]))\n",
    "        per_can.append(sub_df2[i][1]/(sub_df2[i][0] + sub_df2[i][1]))\n",
    "    elif sub_df2[i].index[0] == 0: # If the only index is 0 then all entries correspond to non-cancellations\n",
    "        per_unc.append(1)\n",
    "        per_can.append(0)\n",
    "    else: # If the only index is 0 then all entries correspond to non-cancellations\n",
    "        per_unc.append(0)\n",
    "        per_can.append(1)\n",
    "per_unc=np.array(per_unc)\n",
    "per_can=np.array(per_can)"
   ]
  },
  {
   "cell_type": "code",
   "execution_count": 23,
   "metadata": {},
   "outputs": [
    {
     "data": {
      "text/plain": [
       "<matplotlib.legend.Legend at 0x10fd9bb38>"
      ]
     },
     "execution_count": 23,
     "metadata": {},
     "output_type": "execute_result"
    },
    {
     "data": {
      "image/png": "[encoded data removed]",
      "text/plain": [
       "<matplotlib.figure.Figure at 0x10f698f60>"
      ]
     },
     "metadata": {},
     "output_type": "display_data"
    }
   ],
   "source": [
    "plt.figure (figsize=(10,7))\n",
    "\n",
    "N = 3  # number of groups\n",
    "ind = np.arange(1,N+1)\n",
    "p1 = plt.bar(ind, per_unc*100, width=0.6, color='r')\n",
    "p2 = plt.bar(ind, per_can*100, width=0.6, bottom=per_unc*100, color='b')\n",
    "\n",
    "plt.ylim([0,120])\n",
    "plt.yticks(fontsize=14)\n",
    "plt.ylabel('Percentage (%)', fontsize=16)\n",
    "plt.xticks(ind, fontsize=14)\n",
    "plt.xlabel('Travel type', fontsize=16)\n",
    "plt.title(\"Car cancellations across Travel Types\")\n",
    "plt.legend((p1[0], p2[0]), (\"Not cancelled\", \"Cancelled\"), fontsize=14, ncol=4, framealpha=0, fancybox=True)"
   ]
  },
  {
   "cell_type": "code",
   "execution_count": 24,
   "metadata": {},
   "outputs": [
    {
     "data": {
      "text/plain": [
       "2    34292\n",
       "3     7550\n",
       "1     1589\n",
       "Name: travel_type_id, dtype: int64"
      ]
     },
     "execution_count": 24,
     "metadata": {},
     "output_type": "execute_result"
    }
   ],
   "source": [
    "# Count of travel types\n",
    "df_train[\"travel_type_id\"].value_counts().head(10)"
   ]
  },
  {
   "cell_type": "markdown",
   "metadata": {},
   "source": [
    "** It makes sense that the most common type of travel is point to point (type 2), it's also the most frequently cancelled (around 8% of these bookings get cancelled). The less frequent is type 1 (long distance) which is also the less frequently cancelled (only around 1% of these bookings get cancelled). **"
   ]
  },
  {
   "cell_type": "markdown",
   "metadata": {},
   "source": [
    "### from_area_id <a name=\"faid\"></a>"
   ]
  },
  {
   "cell_type": "code",
   "execution_count": 25,
   "metadata": {
    "collapsed": true
   },
   "outputs": [],
   "source": [
    "faid = df_train.groupby(['from_area_id', 'Car_Cancellation']).size().unstack(1)"
   ]
  },
  {
   "cell_type": "code",
   "execution_count": 26,
   "metadata": {},
   "outputs": [
    {
     "data": {
      "text/html": [
       "<div>\n",
       "<style>\n",
       "    .dataframe thead tr:only-child th {\n",
       "        text-align: right;\n",
       "    }\n",
       "\n",
       "    .dataframe thead th {\n",
       "        text-align: left;\n",
       "    }\n",
       "\n",
       "    .dataframe tbody tr th {\n",
       "        vertical-align: top;\n",
       "    }\n",
       "</style>\n",
       "<table border=\"1\" class=\"dataframe\">\n",
       "  <thead>\n",
       "    <tr style=\"text-align: right;\">\n",
       "      <th>Car_Cancellation</th>\n",
       "      <th>0</th>\n",
       "      <th>1</th>\n",
       "    </tr>\n",
       "    <tr>\n",
       "      <th>from_area_id</th>\n",
       "      <th></th>\n",
       "      <th></th>\n",
       "    </tr>\n",
       "  </thead>\n",
       "  <tbody>\n",
       "    <tr>\n",
       "      <th>2.0</th>\n",
       "      <td>27.0</td>\n",
       "      <td>4.0</td>\n",
       "    </tr>\n",
       "    <tr>\n",
       "      <th>6.0</th>\n",
       "      <td>7.0</td>\n",
       "      <td>NaN</td>\n",
       "    </tr>\n",
       "    <tr>\n",
       "      <th>15.0</th>\n",
       "      <td>6.0</td>\n",
       "      <td>NaN</td>\n",
       "    </tr>\n",
       "    <tr>\n",
       "      <th>16.0</th>\n",
       "      <td>5.0</td>\n",
       "      <td>NaN</td>\n",
       "    </tr>\n",
       "    <tr>\n",
       "      <th>17.0</th>\n",
       "      <td>2.0</td>\n",
       "      <td>NaN</td>\n",
       "    </tr>\n",
       "  </tbody>\n",
       "</table>\n",
       "</div>"
      ],
      "text/plain": [
       "Car_Cancellation     0    1\n",
       "from_area_id               \n",
       "2.0               27.0  4.0\n",
       "6.0                7.0  NaN\n",
       "15.0               6.0  NaN\n",
       "16.0               5.0  NaN\n",
       "17.0               2.0  NaN"
      ]
     },
     "execution_count": 26,
     "metadata": {},
     "output_type": "execute_result"
    }
   ],
   "source": [
    "faid.head()"
   ]
  },
  {
   "cell_type": "code",
   "execution_count": 27,
   "metadata": {
    "collapsed": true
   },
   "outputs": [],
   "source": [
    "faid_percent_cancelled = (faid[1] / (faid[0] + faid [1]))*100"
   ]
  },
  {
   "cell_type": "code",
   "execution_count": 28,
   "metadata": {},
   "outputs": [
    {
     "data": {
      "text/plain": [
       "from_area_id\n",
       "130.0     80.000000\n",
       "1148.0    66.666667\n",
       "1174.0    66.666667\n",
       "630.0     66.666667\n",
       "176.0     52.830189\n",
       "1381.0    50.000000\n",
       "1160.0    50.000000\n",
       "1100.0    50.000000\n",
       "1385.0    50.000000\n",
       "1276.0    45.454545\n",
       "211.0     44.444444\n",
       "1372.0    40.000000\n",
       "356.0     40.000000\n",
       "987.0     40.000000\n",
       "626.0     34.375000\n",
       "1258.0    33.333333\n",
       "34.0      33.333333\n",
       "326.0     33.333333\n",
       "177.0     33.333333\n",
       "833.0     33.333333\n",
       "dtype: float64"
      ]
     },
     "execution_count": 28,
     "metadata": {},
     "output_type": "execute_result"
    }
   ],
   "source": [
    "faid_percent_cancelled.sort_values(ascending=False).head(20)"
   ]
  },
  {
   "cell_type": "markdown",
   "metadata": {},
   "source": [
    "** As we can see, for certain areas (from area) more than 50% of the bookings were cancelled. However, it should be noted that these results could be the consequence of not having enough observations for these areas. To obtain more meaningful results let’s discard areas with less than 10 entries.**"
   ]
  },
  {
   "cell_type": "code",
   "execution_count": 29,
   "metadata": {
    "collapsed": true
   },
   "outputs": [],
   "source": [
    "from_area_counts = df_train['from_area_id'].value_counts().rename('from_area_counts')"
   ]
  },
  {
   "cell_type": "code",
   "execution_count": 30,
   "metadata": {
    "collapsed": true
   },
   "outputs": [],
   "source": [
    "df_train2 = df_train.merge(from_area_counts.to_frame(), left_on='from_area_id', right_index=True)"
   ]
  },
  {
   "cell_type": "code",
   "execution_count": 31,
   "metadata": {
    "collapsed": true
   },
   "outputs": [],
   "source": [
    "faid2 = df_train2[df_train2[\"from_area_counts\"]>10].groupby(['from_area_id', 'Car_Cancellation']).size().unstack(1)"
   ]
  },
  {
   "cell_type": "code",
   "execution_count": 32,
   "metadata": {
    "collapsed": true
   },
   "outputs": [],
   "source": [
    "faid_percent_cancelled2 = (faid2[1] / (faid2[0] + faid2 [1]))*100"
   ]
  },
  {
   "cell_type": "code",
   "execution_count": 33,
   "metadata": {},
   "outputs": [
    {
     "data": {
      "text/plain": [
       "from_area_id\n",
       "176.0     52.830189\n",
       "1276.0    45.454545\n",
       "356.0     40.000000\n",
       "626.0     34.375000\n",
       "34.0      33.333333\n",
       "264.0     32.142857\n",
       "1379.0    30.303030\n",
       "839.0     30.000000\n",
       "1349.0    29.729730\n",
       "1378.0    28.571429\n",
       "1130.0    27.777778\n",
       "1216.0    27.272727\n",
       "186.0     26.923077\n",
       "49.0      25.000000\n",
       "222.0     25.000000\n",
       "1351.0    24.657534\n",
       "1074.0    23.076923\n",
       "1033.0    21.951220\n",
       "1274.0    21.428571\n",
       "1283.0    21.276596\n",
       "dtype: float64"
      ]
     },
     "execution_count": 33,
     "metadata": {},
     "output_type": "execute_result"
    }
   ],
   "source": [
    "faid_percent_cancelled2.sort_values(ascending=False).head(20)"
   ]
  },
  {
   "cell_type": "markdown",
   "metadata": {},
   "source": [
    "**When we consider at least 10 entries of from_area_id, the area with most cancellations is area 176.0 (from_area_id).**"
   ]
  },
  {
   "cell_type": "markdown",
   "metadata": {},
   "source": [
    "### to_area_id <a name=\"taid\"></a>"
   ]
  },
  {
   "cell_type": "code",
   "execution_count": 34,
   "metadata": {
    "collapsed": true
   },
   "outputs": [],
   "source": [
    "to_area_counts = df_train['to_area_id'].value_counts().rename('to_area_counts')"
   ]
  },
  {
   "cell_type": "code",
   "execution_count": 35,
   "metadata": {
    "collapsed": true
   },
   "outputs": [],
   "source": [
    "df_train3 = df_train.merge(to_area_counts.to_frame(), left_on='to_area_id', right_index=True)"
   ]
  },
  {
   "cell_type": "code",
   "execution_count": 36,
   "metadata": {
    "collapsed": true
   },
   "outputs": [],
   "source": [
    "taid = df_train3[df_train3[\"to_area_counts\"]>10].groupby(['to_area_id', 'Car_Cancellation']).size().unstack(1)"
   ]
  },
  {
   "cell_type": "code",
   "execution_count": 37,
   "metadata": {
    "collapsed": true
   },
   "outputs": [],
   "source": [
    "taid_percent_cancelled = (taid[1] / (taid[0] + taid [1]))*100"
   ]
  },
  {
   "cell_type": "code",
   "execution_count": 38,
   "metadata": {},
   "outputs": [
    {
     "data": {
      "text/plain": [
       "to_area_id\n",
       "122.0     41.463415\n",
       "626.0     40.000000\n",
       "1161.0    33.333333\n",
       "278.0     33.333333\n",
       "160.0     33.333333\n",
       "176.0     32.307692\n",
       "1372.0    31.250000\n",
       "1375.0    30.769231\n",
       "1013.0    28.571429\n",
       "1186.0    28.571429\n",
       "1370.0    27.777778\n",
       "212.0     27.272727\n",
       "1395.0    27.272727\n",
       "1351.0    26.666667\n",
       "1204.0    26.086957\n",
       "1270.0    25.925926\n",
       "157.0     25.000000\n",
       "1077.0    25.000000\n",
       "1063.0    25.000000\n",
       "417.0     25.000000\n",
       "dtype: float64"
      ]
     },
     "execution_count": 38,
     "metadata": {},
     "output_type": "execute_result"
    }
   ],
   "source": [
    "taid_percent_cancelled.sort_values(ascending=False).head(20)"
   ]
  },
  {
   "cell_type": "markdown",
   "metadata": {},
   "source": [
    "**When we consider at least 10 entries of to_area_id, the destination with most cancellations is area 122.0 (to_area_id), closely followed by area 626.0.**"
   ]
  },
  {
   "cell_type": "markdown",
   "metadata": {},
   "source": [
    "**Let's now study the routes with the most cancellations.**"
   ]
  },
  {
   "cell_type": "code",
   "execution_count": 39,
   "metadata": {
    "collapsed": true
   },
   "outputs": [],
   "source": [
    "from_to = df_train.groupby(['from_area_id', 'to_area_id', 'Car_Cancellation']).size()"
   ]
  },
  {
   "cell_type": "code",
   "execution_count": 40,
   "metadata": {
    "collapsed": true
   },
   "outputs": [],
   "source": [
    "f_t = from_to.unstack(2)"
   ]
  },
  {
   "cell_type": "code",
   "execution_count": 41,
   "metadata": {},
   "outputs": [
    {
     "data": {
      "text/html": [
       "<div>\n",
       "<style>\n",
       "    .dataframe thead tr:only-child th {\n",
       "        text-align: right;\n",
       "    }\n",
       "\n",
       "    .dataframe thead th {\n",
       "        text-align: left;\n",
       "    }\n",
       "\n",
       "    .dataframe tbody tr th {\n",
       "        vertical-align: top;\n",
       "    }\n",
       "</style>\n",
       "<table border=\"1\" class=\"dataframe\">\n",
       "  <thead>\n",
       "    <tr style=\"text-align: right;\">\n",
       "      <th></th>\n",
       "      <th>Car_Cancellation</th>\n",
       "      <th>0</th>\n",
       "      <th>1</th>\n",
       "    </tr>\n",
       "    <tr>\n",
       "      <th>from_area_id</th>\n",
       "      <th>to_area_id</th>\n",
       "      <th></th>\n",
       "      <th></th>\n",
       "    </tr>\n",
       "  </thead>\n",
       "  <tbody>\n",
       "    <tr>\n",
       "      <th rowspan=\"5\" valign=\"top\">2.0</th>\n",
       "      <th>222.0</th>\n",
       "      <td>1.0</td>\n",
       "      <td>NaN</td>\n",
       "    </tr>\n",
       "    <tr>\n",
       "      <th>393.0</th>\n",
       "      <td>12.0</td>\n",
       "      <td>NaN</td>\n",
       "    </tr>\n",
       "    <tr>\n",
       "      <th>452.0</th>\n",
       "      <td>1.0</td>\n",
       "      <td>NaN</td>\n",
       "    </tr>\n",
       "    <tr>\n",
       "      <th>455.0</th>\n",
       "      <td>NaN</td>\n",
       "      <td>1.0</td>\n",
       "    </tr>\n",
       "    <tr>\n",
       "      <th>572.0</th>\n",
       "      <td>NaN</td>\n",
       "      <td>1.0</td>\n",
       "    </tr>\n",
       "  </tbody>\n",
       "</table>\n",
       "</div>"
      ],
      "text/plain": [
       "Car_Cancellation            0    1\n",
       "from_area_id to_area_id           \n",
       "2.0          222.0        1.0  NaN\n",
       "             393.0       12.0  NaN\n",
       "             452.0        1.0  NaN\n",
       "             455.0        NaN  1.0\n",
       "             572.0        NaN  1.0"
      ]
     },
     "execution_count": 41,
     "metadata": {},
     "output_type": "execute_result"
    }
   ],
   "source": [
    "f_t.head()"
   ]
  },
  {
   "cell_type": "code",
   "execution_count": 42,
   "metadata": {
    "collapsed": true
   },
   "outputs": [],
   "source": [
    "f_t['percent_cancelled'] = (f_t[1] / (f_t[0] + f_t[1])) * 100"
   ]
  },
  {
   "cell_type": "code",
   "execution_count": 43,
   "metadata": {},
   "outputs": [
    {
     "data": {
      "text/plain": [
       "from_area_id  to_area_id\n",
       "626.0         122.0         90.909091\n",
       "1349.0        1052.0        83.333333\n",
       "1330.0        176.0         80.000000\n",
       "1052.0        1349.0        78.571429\n",
       "625.0         452.0         75.000000\n",
       "1296.0        793.0         75.000000\n",
       "1365.0        293.0         75.000000\n",
       "1285.0        61.0          70.588235\n",
       "122.0         626.0         70.000000\n",
       "176.0         136.0         66.666667\n",
       "1068.0        352.0         66.666667\n",
       "264.0         585.0         66.666667\n",
       "1384.0        160.0         66.666667\n",
       "839.0         585.0         66.666667\n",
       "571.0         396.0         66.666667\n",
       "83.0          176.0         66.666667\n",
       "1095.0        25.0          66.666667\n",
       "363.0         1068.0        66.666667\n",
       "542.0         1237.0        66.666667\n",
       "541.0         83.0          66.666667\n",
       "Name: percent_cancelled, dtype: float64"
      ]
     },
     "execution_count": 43,
     "metadata": {},
     "output_type": "execute_result"
    }
   ],
   "source": [
    "f_t.percent_cancelled.sort_values(ascending=False).head(20)"
   ]
  },
  {
   "cell_type": "markdown",
   "metadata": {},
   "source": [
    "**There are some routes for which the cancellation rate is very high, for instance from area 626 to area 122 for which almost 91% of the bookings were cancelled, this is coherent with our previous analysis (626 is one of the areas of from_area_id with the most cancellations, and 122 and 626 are the destinations with the most cancellations).**"
   ]
  },
  {
   "cell_type": "markdown",
   "metadata": {
    "collapsed": true
   },
   "source": [
    "### Online & Mobile Bookings <a name=\"onmob\"></a>"
   ]
  },
  {
   "cell_type": "code",
   "execution_count": 44,
   "metadata": {},
   "outputs": [
    {
     "data": {
      "text/plain": [
       "<matplotlib.axes._subplots.AxesSubplot at 0x10ded27f0>"
      ]
     },
     "execution_count": 44,
     "metadata": {},
     "output_type": "execute_result"
    },
    {
     "data": {
      "image/png": "[encoded data removed]",
      "text/plain": [
       "<matplotlib.figure.Figure at 0x10df2eb00>"
      ]
     },
     "metadata": {},
     "output_type": "display_data"
    }
   ],
   "source": [
    "sns.countplot(\"online_booking\", data=df_train, hue=\"Car_Cancellation\")"
   ]
  },
  {
   "cell_type": "code",
   "execution_count": 45,
   "metadata": {},
   "outputs": [
    {
     "data": {
      "text/plain": [
       "online_booking  Car_Cancellation\n",
       "0               0                   26932\n",
       "                1                    1229\n",
       "1               0                   13367\n",
       "                1                    1903\n",
       "dtype: int64"
      ]
     },
     "execution_count": 45,
     "metadata": {},
     "output_type": "execute_result"
    }
   ],
   "source": [
    "df_train.groupby([\"online_booking\",\"Car_Cancellation\"]).size()"
   ]
  },
  {
   "cell_type": "markdown",
   "metadata": {},
   "source": [
    "**12.5% of online bookings were cancelled**"
   ]
  },
  {
   "cell_type": "code",
   "execution_count": 46,
   "metadata": {},
   "outputs": [
    {
     "data": {
      "text/plain": [
       "<matplotlib.axes._subplots.AxesSubplot at 0x11391cd68>"
      ]
     },
     "execution_count": 46,
     "metadata": {},
     "output_type": "execute_result"
    },
    {
     "data": {
      "image/png": "[encoded data removed]",
      "text/plain": [
       "<matplotlib.figure.Figure at 0x102f48fd0>"
      ]
     },
     "metadata": {},
     "output_type": "display_data"
    }
   ],
   "source": [
    "sns.countplot(\"mobile_site_booking\", data=df_train, hue=\"Car_Cancellation\")"
   ]
  },
  {
   "cell_type": "code",
   "execution_count": 47,
   "metadata": {},
   "outputs": [
    {
     "data": {
      "text/plain": [
       "mobile_site_booking  Car_Cancellation\n",
       "0                    0                   38710\n",
       "                     1                    2843\n",
       "1                    0                    1589\n",
       "                     1                     289\n",
       "dtype: int64"
      ]
     },
     "execution_count": 47,
     "metadata": {},
     "output_type": "execute_result"
    }
   ],
   "source": [
    "df_train.groupby([\"mobile_site_booking\",\"Car_Cancellation\"]).size()"
   ]
  },
  {
   "cell_type": "markdown",
   "metadata": {},
   "source": [
    "**On the other hand 15.4% of mobile bookings were cancelled.**"
   ]
  },
  {
   "cell_type": "code",
   "execution_count": 48,
   "metadata": {},
   "outputs": [
    {
     "data": {
      "text/plain": [
       "Car_Cancellation\n",
       "0    25343\n",
       "1      940\n",
       "dtype: int64"
      ]
     },
     "execution_count": 48,
     "metadata": {},
     "output_type": "execute_result"
    }
   ],
   "source": [
    "df_train[(df_train[\"online_booking\"]==0) & (df_train[\"mobile_site_booking\"]==0)].groupby(\"Car_Cancellation\").size()"
   ]
  },
  {
   "cell_type": "markdown",
   "metadata": {},
   "source": [
    "**Finally, 3.6% of the bookings that were made neither online nor on the mobile site were cancelled.**"
   ]
  },
  {
   "cell_type": "markdown",
   "metadata": {},
   "source": [
    "### Relation of number of days between booking date and trip's start date with cancellation <a name=\"fromdate\"></a>"
   ]
  },
  {
   "cell_type": "code",
   "execution_count": 49,
   "metadata": {
    "collapsed": true
   },
   "outputs": [],
   "source": [
    "booking_diff = df_train[df_train[\"from_date\"] > df_train[\"booking_created\"]][['from_date', 'to_date', 'booking_created', 'Car_Cancellation']] \n",
    "#Selects only rows in which the booking creation date registered is lower than the from_date registered (because\n",
    "#this is not always the case)"
   ]
  },
  {
   "cell_type": "code",
   "execution_count": 50,
   "metadata": {
    "collapsed": true
   },
   "outputs": [],
   "source": [
    "booking_diff['difference'] = booking_diff['from_date'] - booking_diff['booking_created']"
   ]
  },
  {
   "cell_type": "code",
   "execution_count": 51,
   "metadata": {},
   "outputs": [
    {
     "data": {
      "text/html": [
       "<div>\n",
       "<style>\n",
       "    .dataframe thead tr:only-child th {\n",
       "        text-align: right;\n",
       "    }\n",
       "\n",
       "    .dataframe thead th {\n",
       "        text-align: left;\n",
       "    }\n",
       "\n",
       "    .dataframe tbody tr th {\n",
       "        vertical-align: top;\n",
       "    }\n",
       "</style>\n",
       "<table border=\"1\" class=\"dataframe\">\n",
       "  <thead>\n",
       "    <tr style=\"text-align: right;\">\n",
       "      <th></th>\n",
       "      <th>from_date</th>\n",
       "      <th>to_date</th>\n",
       "      <th>booking_created</th>\n",
       "      <th>Car_Cancellation</th>\n",
       "      <th>difference</th>\n",
       "    </tr>\n",
       "    <tr>\n",
       "      <th>id</th>\n",
       "      <th></th>\n",
       "      <th></th>\n",
       "      <th></th>\n",
       "      <th></th>\n",
       "      <th></th>\n",
       "    </tr>\n",
       "  </thead>\n",
       "  <tbody>\n",
       "    <tr>\n",
       "      <th>132512</th>\n",
       "      <td>2013-01-01 02:00:00</td>\n",
       "      <td>NaT</td>\n",
       "      <td>2013-01-01 01:39:00</td>\n",
       "      <td>0</td>\n",
       "      <td>00:21:00</td>\n",
       "    </tr>\n",
       "    <tr>\n",
       "      <th>132513</th>\n",
       "      <td>2013-01-01 09:00:00</td>\n",
       "      <td>NaT</td>\n",
       "      <td>2013-01-01 02:25:00</td>\n",
       "      <td>0</td>\n",
       "      <td>06:35:00</td>\n",
       "    </tr>\n",
       "    <tr>\n",
       "      <th>132514</th>\n",
       "      <td>2013-01-01 03:30:00</td>\n",
       "      <td>NaT</td>\n",
       "      <td>2013-01-01 03:08:00</td>\n",
       "      <td>0</td>\n",
       "      <td>00:22:00</td>\n",
       "    </tr>\n",
       "    <tr>\n",
       "      <th>132515</th>\n",
       "      <td>2013-01-01 05:45:00</td>\n",
       "      <td>NaT</td>\n",
       "      <td>2013-01-01 04:39:00</td>\n",
       "      <td>0</td>\n",
       "      <td>01:06:00</td>\n",
       "    </tr>\n",
       "    <tr>\n",
       "      <th>132517</th>\n",
       "      <td>2013-01-01 09:00:00</td>\n",
       "      <td>NaT</td>\n",
       "      <td>2013-01-01 07:53:00</td>\n",
       "      <td>0</td>\n",
       "      <td>01:07:00</td>\n",
       "    </tr>\n",
       "  </tbody>\n",
       "</table>\n",
       "</div>"
      ],
      "text/plain": [
       "                 from_date to_date     booking_created  Car_Cancellation  \\\n",
       "id                                                                         \n",
       "132512 2013-01-01 02:00:00     NaT 2013-01-01 01:39:00                 0   \n",
       "132513 2013-01-01 09:00:00     NaT 2013-01-01 02:25:00                 0   \n",
       "132514 2013-01-01 03:30:00     NaT 2013-01-01 03:08:00                 0   \n",
       "132515 2013-01-01 05:45:00     NaT 2013-01-01 04:39:00                 0   \n",
       "132517 2013-01-01 09:00:00     NaT 2013-01-01 07:53:00                 0   \n",
       "\n",
       "       difference  \n",
       "id                 \n",
       "132512   00:21:00  \n",
       "132513   06:35:00  \n",
       "132514   00:22:00  \n",
       "132515   01:06:00  \n",
       "132517   01:07:00  "
      ]
     },
     "execution_count": 51,
     "metadata": {},
     "output_type": "execute_result"
    }
   ],
   "source": [
    "booking_diff.head()"
   ]
  },
  {
   "cell_type": "code",
   "execution_count": 52,
   "metadata": {
    "collapsed": true
   },
   "outputs": [],
   "source": [
    "booking_diff[\"days_diff\"] = booking_diff[\"difference\"].apply(lambda x: x.total_seconds()/86400)"
   ]
  },
  {
   "cell_type": "code",
   "execution_count": 53,
   "metadata": {},
   "outputs": [
    {
     "data": {
      "text/html": [
       "<div>\n",
       "<style>\n",
       "    .dataframe thead tr:only-child th {\n",
       "        text-align: right;\n",
       "    }\n",
       "\n",
       "    .dataframe thead th {\n",
       "        text-align: left;\n",
       "    }\n",
       "\n",
       "    .dataframe tbody tr th {\n",
       "        vertical-align: top;\n",
       "    }\n",
       "</style>\n",
       "<table border=\"1\" class=\"dataframe\">\n",
       "  <thead>\n",
       "    <tr style=\"text-align: right;\">\n",
       "      <th></th>\n",
       "      <th>from_date</th>\n",
       "      <th>to_date</th>\n",
       "      <th>booking_created</th>\n",
       "      <th>Car_Cancellation</th>\n",
       "      <th>difference</th>\n",
       "      <th>days_diff</th>\n",
       "    </tr>\n",
       "    <tr>\n",
       "      <th>id</th>\n",
       "      <th></th>\n",
       "      <th></th>\n",
       "      <th></th>\n",
       "      <th></th>\n",
       "      <th></th>\n",
       "      <th></th>\n",
       "    </tr>\n",
       "  </thead>\n",
       "  <tbody>\n",
       "    <tr>\n",
       "      <th>132512</th>\n",
       "      <td>2013-01-01 02:00:00</td>\n",
       "      <td>NaT</td>\n",
       "      <td>2013-01-01 01:39:00</td>\n",
       "      <td>0</td>\n",
       "      <td>00:21:00</td>\n",
       "      <td>0.014583</td>\n",
       "    </tr>\n",
       "    <tr>\n",
       "      <th>132513</th>\n",
       "      <td>2013-01-01 09:00:00</td>\n",
       "      <td>NaT</td>\n",
       "      <td>2013-01-01 02:25:00</td>\n",
       "      <td>0</td>\n",
       "      <td>06:35:00</td>\n",
       "      <td>0.274306</td>\n",
       "    </tr>\n",
       "    <tr>\n",
       "      <th>132514</th>\n",
       "      <td>2013-01-01 03:30:00</td>\n",
       "      <td>NaT</td>\n",
       "      <td>2013-01-01 03:08:00</td>\n",
       "      <td>0</td>\n",
       "      <td>00:22:00</td>\n",
       "      <td>0.015278</td>\n",
       "    </tr>\n",
       "    <tr>\n",
       "      <th>132515</th>\n",
       "      <td>2013-01-01 05:45:00</td>\n",
       "      <td>NaT</td>\n",
       "      <td>2013-01-01 04:39:00</td>\n",
       "      <td>0</td>\n",
       "      <td>01:06:00</td>\n",
       "      <td>0.045833</td>\n",
       "    </tr>\n",
       "    <tr>\n",
       "      <th>132517</th>\n",
       "      <td>2013-01-01 09:00:00</td>\n",
       "      <td>NaT</td>\n",
       "      <td>2013-01-01 07:53:00</td>\n",
       "      <td>0</td>\n",
       "      <td>01:07:00</td>\n",
       "      <td>0.046528</td>\n",
       "    </tr>\n",
       "  </tbody>\n",
       "</table>\n",
       "</div>"
      ],
      "text/plain": [
       "                 from_date to_date     booking_created  Car_Cancellation  \\\n",
       "id                                                                         \n",
       "132512 2013-01-01 02:00:00     NaT 2013-01-01 01:39:00                 0   \n",
       "132513 2013-01-01 09:00:00     NaT 2013-01-01 02:25:00                 0   \n",
       "132514 2013-01-01 03:30:00     NaT 2013-01-01 03:08:00                 0   \n",
       "132515 2013-01-01 05:45:00     NaT 2013-01-01 04:39:00                 0   \n",
       "132517 2013-01-01 09:00:00     NaT 2013-01-01 07:53:00                 0   \n",
       "\n",
       "       difference  days_diff  \n",
       "id                            \n",
       "132512   00:21:00   0.014583  \n",
       "132513   06:35:00   0.274306  \n",
       "132514   00:22:00   0.015278  \n",
       "132515   01:06:00   0.045833  \n",
       "132517   01:07:00   0.046528  "
      ]
     },
     "execution_count": 53,
     "metadata": {},
     "output_type": "execute_result"
    }
   ],
   "source": [
    "booking_diff.head()"
   ]
  },
  {
   "cell_type": "code",
   "execution_count": 54,
   "metadata": {},
   "outputs": [
    {
     "data": {
      "text/html": [
       "<div>\n",
       "<style>\n",
       "    .dataframe thead tr:only-child th {\n",
       "        text-align: right;\n",
       "    }\n",
       "\n",
       "    .dataframe thead th {\n",
       "        text-align: left;\n",
       "    }\n",
       "\n",
       "    .dataframe tbody tr th {\n",
       "        vertical-align: top;\n",
       "    }\n",
       "</style>\n",
       "<table border=\"1\" class=\"dataframe\">\n",
       "  <thead>\n",
       "    <tr style=\"text-align: right;\">\n",
       "      <th></th>\n",
       "      <th>count</th>\n",
       "      <th>mean</th>\n",
       "      <th>std</th>\n",
       "      <th>min</th>\n",
       "      <th>25%</th>\n",
       "      <th>50%</th>\n",
       "      <th>75%</th>\n",
       "      <th>max</th>\n",
       "    </tr>\n",
       "    <tr>\n",
       "      <th>Car_Cancellation</th>\n",
       "      <th></th>\n",
       "      <th></th>\n",
       "      <th></th>\n",
       "      <th></th>\n",
       "      <th></th>\n",
       "      <th></th>\n",
       "      <th></th>\n",
       "      <th></th>\n",
       "    </tr>\n",
       "  </thead>\n",
       "  <tbody>\n",
       "    <tr>\n",
       "      <th>0</th>\n",
       "      <td>40257.0</td>\n",
       "      <td>1.391893</td>\n",
       "      <td>3.795317</td>\n",
       "      <td>0.000694</td>\n",
       "      <td>0.127083</td>\n",
       "      <td>0.379861</td>\n",
       "      <td>0.784028</td>\n",
       "      <td>79.454167</td>\n",
       "    </tr>\n",
       "    <tr>\n",
       "      <th>1</th>\n",
       "      <td>3131.0</td>\n",
       "      <td>1.722053</td>\n",
       "      <td>5.341344</td>\n",
       "      <td>0.013194</td>\n",
       "      <td>0.084028</td>\n",
       "      <td>0.195139</td>\n",
       "      <td>0.454167</td>\n",
       "      <td>49.839583</td>\n",
       "    </tr>\n",
       "  </tbody>\n",
       "</table>\n",
       "</div>"
      ],
      "text/plain": [
       "                    count      mean       std       min       25%       50%  \\\n",
       "Car_Cancellation                                                              \n",
       "0                 40257.0  1.391893  3.795317  0.000694  0.127083  0.379861   \n",
       "1                  3131.0  1.722053  5.341344  0.013194  0.084028  0.195139   \n",
       "\n",
       "                       75%        max  \n",
       "Car_Cancellation                       \n",
       "0                 0.784028  79.454167  \n",
       "1                 0.454167  49.839583  "
      ]
     },
     "execution_count": 54,
     "metadata": {},
     "output_type": "execute_result"
    }
   ],
   "source": [
    "booking_diff.groupby(\"Car_Cancellation\").describe()[\"days_diff\"]"
   ]
  },
  {
   "cell_type": "code",
   "execution_count": 55,
   "metadata": {},
   "outputs": [
    {
     "data": {
      "image/png": "[encoded data removed]",
      "text/plain": [
       "<matplotlib.figure.Figure at 0x102ed7400>"
      ]
     },
     "metadata": {},
     "output_type": "display_data"
    }
   ],
   "source": [
    "booking_diff.hist(column='days_diff',bins=100);"
   ]
  },
  {
   "cell_type": "code",
   "execution_count": 56,
   "metadata": {},
   "outputs": [
    {
     "data": {
      "image/png": "[encoded data removed]",
      "text/plain": [
       "<matplotlib.figure.Figure at 0x11378d748>"
      ]
     },
     "metadata": {},
     "output_type": "display_data"
    }
   ],
   "source": [
    "booking_diff.hist(column='days_diff', by='Car_Cancellation', bins=100);"
   ]
  },
  {
   "cell_type": "markdown",
   "metadata": {},
   "source": [
    "**Most of the cancelled bookings are created 1-2 days prior to the from_date, which is logical because most of the bookings are created 1-2 days prior to the from_date. There seems to be no relation between date of booking and trip's start date with cancellation as all these graphs follow a similar distribution. Let's segregate these graphs.**"
   ]
  },
  {
   "cell_type": "code",
   "execution_count": 57,
   "metadata": {},
   "outputs": [
    {
     "data": {
      "image/png": "[encoded data removed]",
      "text/plain": [
       "<matplotlib.figure.Figure at 0x1151b5898>"
      ]
     },
     "metadata": {},
     "output_type": "display_data"
    }
   ],
   "source": [
    "# Bookings created less than 2 days prior to the from_date\n",
    "booking_diff[booking_diff[\"days_diff\"]< 2].hist(column='days_diff', by='Car_Cancellation', bins=100);"
   ]
  },
  {
   "cell_type": "code",
   "execution_count": 58,
   "metadata": {},
   "outputs": [
    {
     "data": {
      "text/plain": [
       "(2, 40)"
      ]
     },
     "execution_count": 58,
     "metadata": {},
     "output_type": "execute_result"
    },
    {
     "data": {
      "image/png": "[encoded data removed]",
      "text/plain": [
       "<matplotlib.figure.Figure at 0x10fb9b9e8>"
      ]
     },
     "metadata": {},
     "output_type": "display_data"
    }
   ],
   "source": [
    "# Bookings created more than 2 days prior to the from_date\n",
    "ax=booking_diff[booking_diff[\"days_diff\"]> 2].hist(column='days_diff', by='Car_Cancellation', bins=20);\n",
    "ax[0].set_xlim([2,40])\n",
    "ax[1].set_xlim([2,40])"
   ]
  },
  {
   "cell_type": "markdown",
   "metadata": {},
   "source": [
    "**This last plot seems to show that larger differences between booking creation and from_date tend to be more likely to be cancelled.**"
   ]
  },
  {
   "cell_type": "markdown",
   "metadata": {},
   "source": [
    "## Data Preparation <a name=\"dpw\"></a>"
   ]
  },
  {
   "cell_type": "markdown",
   "metadata": {},
   "source": [
    "**As we saw before, many of the features contain missing values, one easy way of visualizing this is with a heatmap:**"
   ]
  },
  {
   "cell_type": "code",
   "execution_count": 59,
   "metadata": {},
   "outputs": [
    {
     "data": {
      "text/plain": [
       "<matplotlib.axes._subplots.AxesSubplot at 0x11548ac18>"
      ]
     },
     "execution_count": 59,
     "metadata": {},
     "output_type": "execute_result"
    },
    {
     "data": {
      "image/png": "[encoded data removed]",
      "text/plain": [
       "<matplotlib.figure.Figure at 0x1151e75c0>"
      ]
     },
     "metadata": {},
     "output_type": "display_data"
    }
   ],
   "source": [
    "sns.heatmap(df_train.isnull(), yticklabels=False, cbar = False, cmap=\"viridis\")"
   ]
  },
  {
   "cell_type": "markdown",
   "metadata": {},
   "source": [
    "Looking at the package_id, from_city_id and to_city_id columns, it looks like we are just missing too much of that data to do something useful with it even at a basic level, so we'll just drop these columns."
   ]
  },
  {
   "cell_type": "markdown",
   "metadata": {},
   "source": [
    "** The following code creates 4 new columns called from_month, from_weekday, booking_month and booking_weekday **"
   ]
  },
  {
   "cell_type": "code",
   "execution_count": 60,
   "metadata": {
    "collapsed": true
   },
   "outputs": [],
   "source": [
    "df_train[\"from_month\"] = df_train[\"from_date\"].apply(lambda t: t.month)\n",
    "df_train[\"from_weekday\"] = df_train[\"from_date\"].apply(lambda t: t.dayofweek)\n",
    "\n",
    "df_train[\"booking_month\"] = df_train[\"booking_created\"].apply(lambda t: t.month)\n",
    "df_train[\"booking_weekday\"] = df_train[\"booking_created\"].apply(lambda t: t.dayofweek)"
   ]
  },
  {
   "cell_type": "code",
   "execution_count": 61,
   "metadata": {},
   "outputs": [
    {
     "name": "stderr",
     "output_type": "stream",
     "text": [
      "/Users/Juan/anaconda/lib/python3.6/site-packages/ipykernel_launcher.py:2: SettingWithCopyWarning: \n",
      "A value is trying to be set on a copy of a slice from a DataFrame.\n",
      "Try using .loc[row_indexer,col_indexer] = value instead\n",
      "\n",
      "See the caveats in the documentation: http://pandas.pydata.org/pandas-docs/stable/indexing.html#indexing-view-versus-copy\n",
      "  \n"
     ]
    }
   ],
   "source": [
    "booking_diff = df_train[['from_date', 'booking_created']]\n",
    "booking_diff['difference'] = booking_diff['from_date'] - booking_diff['booking_created']\n",
    "df_train[\"days_before_booking\"] = booking_diff['difference'].apply(lambda x: x.total_seconds()/86400)\n",
    "import warnings\n",
    "warnings.filterwarnings('ignore')"
   ]
  },
  {
   "cell_type": "code",
   "execution_count": 62,
   "metadata": {},
   "outputs": [
    {
     "data": {
      "text/html": [
       "<div>\n",
       "<style>\n",
       "    .dataframe thead tr:only-child th {\n",
       "        text-align: right;\n",
       "    }\n",
       "\n",
       "    .dataframe thead th {\n",
       "        text-align: left;\n",
       "    }\n",
       "\n",
       "    .dataframe tbody tr th {\n",
       "        vertical-align: top;\n",
       "    }\n",
       "</style>\n",
       "<table border=\"1\" class=\"dataframe\">\n",
       "  <thead>\n",
       "    <tr style=\"text-align: right;\">\n",
       "      <th></th>\n",
       "      <th>user_id</th>\n",
       "      <th>vehicle_model_id</th>\n",
       "      <th>package_id</th>\n",
       "      <th>travel_type_id</th>\n",
       "      <th>from_area_id</th>\n",
       "      <th>to_area_id</th>\n",
       "      <th>from_city_id</th>\n",
       "      <th>to_city_id</th>\n",
       "      <th>from_date</th>\n",
       "      <th>to_date</th>\n",
       "      <th>...</th>\n",
       "      <th>from_long</th>\n",
       "      <th>to_lat</th>\n",
       "      <th>to_long</th>\n",
       "      <th>Car_Cancellation</th>\n",
       "      <th>Cost_of_error</th>\n",
       "      <th>from_month</th>\n",
       "      <th>from_weekday</th>\n",
       "      <th>booking_month</th>\n",
       "      <th>booking_weekday</th>\n",
       "      <th>days_before_booking</th>\n",
       "    </tr>\n",
       "    <tr>\n",
       "      <th>id</th>\n",
       "      <th></th>\n",
       "      <th></th>\n",
       "      <th></th>\n",
       "      <th></th>\n",
       "      <th></th>\n",
       "      <th></th>\n",
       "      <th></th>\n",
       "      <th></th>\n",
       "      <th></th>\n",
       "      <th></th>\n",
       "      <th></th>\n",
       "      <th></th>\n",
       "      <th></th>\n",
       "      <th></th>\n",
       "      <th></th>\n",
       "      <th></th>\n",
       "      <th></th>\n",
       "      <th></th>\n",
       "      <th></th>\n",
       "      <th></th>\n",
       "      <th></th>\n",
       "    </tr>\n",
       "  </thead>\n",
       "  <tbody>\n",
       "    <tr>\n",
       "      <th>132512</th>\n",
       "      <td>22177</td>\n",
       "      <td>28</td>\n",
       "      <td>NaN</td>\n",
       "      <td>2</td>\n",
       "      <td>83.0</td>\n",
       "      <td>448.0</td>\n",
       "      <td>NaN</td>\n",
       "      <td>NaN</td>\n",
       "      <td>2013-01-01 02:00:00</td>\n",
       "      <td>NaT</td>\n",
       "      <td>...</td>\n",
       "      <td>77.672290</td>\n",
       "      <td>12.927320</td>\n",
       "      <td>77.635750</td>\n",
       "      <td>0</td>\n",
       "      <td>1.0</td>\n",
       "      <td>1</td>\n",
       "      <td>1</td>\n",
       "      <td>1</td>\n",
       "      <td>1</td>\n",
       "      <td>0.014583</td>\n",
       "    </tr>\n",
       "    <tr>\n",
       "      <th>132513</th>\n",
       "      <td>21413</td>\n",
       "      <td>12</td>\n",
       "      <td>NaN</td>\n",
       "      <td>2</td>\n",
       "      <td>1010.0</td>\n",
       "      <td>540.0</td>\n",
       "      <td>NaN</td>\n",
       "      <td>NaN</td>\n",
       "      <td>2013-01-01 09:00:00</td>\n",
       "      <td>NaT</td>\n",
       "      <td>...</td>\n",
       "      <td>77.749350</td>\n",
       "      <td>12.927680</td>\n",
       "      <td>77.626640</td>\n",
       "      <td>0</td>\n",
       "      <td>1.0</td>\n",
       "      <td>1</td>\n",
       "      <td>1</td>\n",
       "      <td>1</td>\n",
       "      <td>1</td>\n",
       "      <td>0.274306</td>\n",
       "    </tr>\n",
       "    <tr>\n",
       "      <th>132514</th>\n",
       "      <td>22178</td>\n",
       "      <td>12</td>\n",
       "      <td>NaN</td>\n",
       "      <td>2</td>\n",
       "      <td>1301.0</td>\n",
       "      <td>1034.0</td>\n",
       "      <td>NaN</td>\n",
       "      <td>NaN</td>\n",
       "      <td>2013-01-01 03:30:00</td>\n",
       "      <td>NaT</td>\n",
       "      <td>...</td>\n",
       "      <td>77.626915</td>\n",
       "      <td>13.047926</td>\n",
       "      <td>77.597766</td>\n",
       "      <td>0</td>\n",
       "      <td>1.0</td>\n",
       "      <td>1</td>\n",
       "      <td>1</td>\n",
       "      <td>1</td>\n",
       "      <td>1</td>\n",
       "      <td>0.015278</td>\n",
       "    </tr>\n",
       "    <tr>\n",
       "      <th>132515</th>\n",
       "      <td>13034</td>\n",
       "      <td>12</td>\n",
       "      <td>NaN</td>\n",
       "      <td>2</td>\n",
       "      <td>768.0</td>\n",
       "      <td>398.0</td>\n",
       "      <td>NaN</td>\n",
       "      <td>NaN</td>\n",
       "      <td>2013-01-01 05:45:00</td>\n",
       "      <td>NaT</td>\n",
       "      <td>...</td>\n",
       "      <td>77.553320</td>\n",
       "      <td>12.971430</td>\n",
       "      <td>77.639140</td>\n",
       "      <td>0</td>\n",
       "      <td>1.0</td>\n",
       "      <td>1</td>\n",
       "      <td>1</td>\n",
       "      <td>1</td>\n",
       "      <td>1</td>\n",
       "      <td>0.045833</td>\n",
       "    </tr>\n",
       "    <tr>\n",
       "      <th>132517</th>\n",
       "      <td>22180</td>\n",
       "      <td>12</td>\n",
       "      <td>NaN</td>\n",
       "      <td>2</td>\n",
       "      <td>1365.0</td>\n",
       "      <td>849.0</td>\n",
       "      <td>NaN</td>\n",
       "      <td>NaN</td>\n",
       "      <td>2013-01-01 09:00:00</td>\n",
       "      <td>NaT</td>\n",
       "      <td>...</td>\n",
       "      <td>77.677925</td>\n",
       "      <td>12.954340</td>\n",
       "      <td>77.600720</td>\n",
       "      <td>0</td>\n",
       "      <td>1.0</td>\n",
       "      <td>1</td>\n",
       "      <td>1</td>\n",
       "      <td>1</td>\n",
       "      <td>1</td>\n",
       "      <td>0.046528</td>\n",
       "    </tr>\n",
       "  </tbody>\n",
       "</table>\n",
       "<p>5 rows × 24 columns</p>\n",
       "</div>"
      ],
      "text/plain": [
       "        user_id  vehicle_model_id  package_id  travel_type_id  from_area_id  \\\n",
       "id                                                                            \n",
       "132512    22177                28         NaN               2          83.0   \n",
       "132513    21413                12         NaN               2        1010.0   \n",
       "132514    22178                12         NaN               2        1301.0   \n",
       "132515    13034                12         NaN               2         768.0   \n",
       "132517    22180                12         NaN               2        1365.0   \n",
       "\n",
       "        to_area_id  from_city_id  to_city_id           from_date to_date  \\\n",
       "id                                                                         \n",
       "132512       448.0           NaN         NaN 2013-01-01 02:00:00     NaT   \n",
       "132513       540.0           NaN         NaN 2013-01-01 09:00:00     NaT   \n",
       "132514      1034.0           NaN         NaN 2013-01-01 03:30:00     NaT   \n",
       "132515       398.0           NaN         NaN 2013-01-01 05:45:00     NaT   \n",
       "132517       849.0           NaN         NaN 2013-01-01 09:00:00     NaT   \n",
       "\n",
       "               ...           from_long     to_lat    to_long  \\\n",
       "id             ...                                             \n",
       "132512         ...           77.672290  12.927320  77.635750   \n",
       "132513         ...           77.749350  12.927680  77.626640   \n",
       "132514         ...           77.626915  13.047926  77.597766   \n",
       "132515         ...           77.553320  12.971430  77.639140   \n",
       "132517         ...           77.677925  12.954340  77.600720   \n",
       "\n",
       "        Car_Cancellation  Cost_of_error  from_month  from_weekday  \\\n",
       "id                                                                  \n",
       "132512                 0            1.0           1             1   \n",
       "132513                 0            1.0           1             1   \n",
       "132514                 0            1.0           1             1   \n",
       "132515                 0            1.0           1             1   \n",
       "132517                 0            1.0           1             1   \n",
       "\n",
       "        booking_month  booking_weekday  days_before_booking  \n",
       "id                                                           \n",
       "132512              1                1             0.014583  \n",
       "132513              1                1             0.274306  \n",
       "132514              1                1             0.015278  \n",
       "132515              1                1             0.045833  \n",
       "132517              1                1             0.046528  \n",
       "\n",
       "[5 rows x 24 columns]"
      ]
     },
     "execution_count": 62,
     "metadata": {},
     "output_type": "execute_result"
    }
   ],
   "source": [
    "df_train.head()"
   ]
  },
  {
   "cell_type": "markdown",
   "metadata": {},
   "source": [
    "**We are going to use the following variables as the features for out model:**"
   ]
  },
  {
   "cell_type": "code",
   "execution_count": 63,
   "metadata": {
    "collapsed": true
   },
   "outputs": [],
   "source": [
    "feats_names = ['vehicle_model_id', 'travel_type_id', 'from_area_id', 'to_area_id', 'from_weekday','from_month',\n",
    "         'days_before_booking', 'online_booking', 'mobile_site_booking', 'booking_weekday', 'booking_month']"
   ]
  },
  {
   "cell_type": "code",
   "execution_count": 64,
   "metadata": {
    "collapsed": true
   },
   "outputs": [],
   "source": [
    "X = df_train[feats_names] # 11 features\n",
    "y = df_train[\"Car_Cancellation\"]"
   ]
  },
  {
   "cell_type": "markdown",
   "metadata": {},
   "source": [
    "**Now we can take another look at our missing values heatmap**"
   ]
  },
  {
   "cell_type": "code",
   "execution_count": 65,
   "metadata": {},
   "outputs": [
    {
     "data": {
      "text/plain": [
       "<matplotlib.axes._subplots.AxesSubplot at 0x11536b630>"
      ]
     },
     "execution_count": 65,
     "metadata": {},
     "output_type": "execute_result"
    },
    {
     "data": {
      "image/png": "[encoded data removed]",
      "text/plain": [
       "<matplotlib.figure.Figure at 0x1157175c0>"
      ]
     },
     "metadata": {},
     "output_type": "display_data"
    }
   ],
   "source": [
    "sns.heatmap(X.isnull(), yticklabels=False, cbar = False, cmap=\"viridis\")"
   ]
  },
  {
   "cell_type": "code",
   "execution_count": 66,
   "metadata": {},
   "outputs": [
    {
     "name": "stdout",
     "output_type": "stream",
     "text": [
      "<class 'pandas.core.frame.DataFrame'>\n",
      "Int64Index: 43431 entries, 132512 to 185941\n",
      "Data columns (total 11 columns):\n",
      "vehicle_model_id       43431 non-null int64\n",
      "travel_type_id         43431 non-null int64\n",
      "from_area_id           43343 non-null float64\n",
      "to_area_id             34293 non-null float64\n",
      "from_weekday           43431 non-null int64\n",
      "from_month             43431 non-null int64\n",
      "days_before_booking    43431 non-null float64\n",
      "online_booking         43431 non-null int64\n",
      "mobile_site_booking    43431 non-null int64\n",
      "booking_weekday        43431 non-null int64\n",
      "booking_month          43431 non-null int64\n",
      "dtypes: float64(3), int64(8)\n",
      "memory usage: 5.2 MB\n"
     ]
    }
   ],
   "source": [
    "X.info()"
   ]
  },
  {
   "cell_type": "markdown",
   "metadata": {},
   "source": [
    "** The only remaining variables with missing values are from_area_id and to_area_id we can impute a new level ( -9999 ) for these missing values:**"
   ]
  },
  {
   "cell_type": "code",
   "execution_count": 67,
   "metadata": {
    "collapsed": true
   },
   "outputs": [],
   "source": [
    "X[\"from_area_id\"].fillna(-9999, inplace=True)\n",
    "X[\"to_area_id\"].fillna(-9999, inplace=True)"
   ]
  }
 ],
 "metadata": {
  "kernelspec": {
   "display_name": "Python 3",
   "language": "python",
   "name": "python3"
  },
  "language_info": {
   "codemirror_mode": {
    "name": "ipython",
    "version": 3
   },
   "file_extension": ".py",
   "mimetype": "text/x-python",
   "name": "python",
   "nbconvert_exporter": "python",
   "pygments_lexer": "ipython3",
   "version": "3.6.4"
  }
 },
 "nbformat": 4,
 "nbformat_minor": 2
}
